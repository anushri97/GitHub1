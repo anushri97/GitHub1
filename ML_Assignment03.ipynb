{
  "nbformat": 4,
  "nbformat_minor": 0,
  "metadata": {
    "colab": {
      "provenance": [],
      "authorship_tag": "ABX9TyM4/RNFeGEOPp09uWIloJY0",
      "include_colab_link": true
    },
    "kernelspec": {
      "name": "python3",
      "display_name": "Python 3"
    },
    "language_info": {
      "name": "python"
    }
  },
  "cells": [
    {
      "cell_type": "markdown",
      "metadata": {
        "id": "view-in-github",
        "colab_type": "text"
      },
      "source": [
        "<a href=\"https://colab.research.google.com/github/anushri97/GitHub1/blob/main/ML_Assignment03.ipynb\" target=\"_parent\"><img src=\"https://colab.research.google.com/assets/colab-badge.svg\" alt=\"Open In Colab\"/></a>"
      ]
    },
    {
      "cell_type": "code",
      "execution_count": 1,
      "metadata": {
        "id": "ej0QAUeJVljM"
      },
      "outputs": [],
      "source": [
        "import pandas\n",
        "from sklearn.tree import DecisionTreeClassifier\n",
        "from sklearn.model_selection import train_test_split\n",
        "from sklearn.metrics import accuracy_score"
      ]
    },
    {
      "cell_type": "code",
      "source": [
        "url=\"https://raw.githubusercontent.com/sohamglobal/datasets/refs/heads/main/FitnessCustomers.csv\"\n",
        "df=pandas.read_csv(url)\n",
        "print(df)"
      ],
      "metadata": {
        "colab": {
          "base_uri": "https://localhost:8080/"
        },
        "id": "2-Qj_MlpWVTD",
        "outputId": "7bdc189a-d57c-4afa-e99a-818c56c7b2e0"
      },
      "execution_count": 2,
      "outputs": [
        {
          "output_type": "stream",
          "name": "stdout",
          "text": [
            "    CustomerID  Age  Gender  Weight  Height   BMI  ExerciseTime Smoking  \\\n",
            "0     CUST1000   56    Male      72     181  22.0            11      No   \n",
            "1     CUST1001   46  Female      75     180  23.1            69      No   \n",
            "2     CUST1002   32  Female      83     165  30.5            16      No   \n",
            "3     CUST1003   60  Female      95     181  29.0           114      No   \n",
            "4     CUST1004   25    Male      83     181  25.3            18      No   \n",
            "..         ...  ...     ...     ...     ...   ...           ...     ...   \n",
            "995   CUST1995   22    Male      61     154  25.7            79      No   \n",
            "996   CUST1996   40    Male      76     166  27.6            71      No   \n",
            "997   CUST1997   27  Female      89     169  31.2            96      No   \n",
            "998   CUST1998   61    Male      51     190  14.1           112     Yes   \n",
            "999   CUST1999   19    Male      62     195  16.3            11     Yes   \n",
            "\n",
            "    Alcohol  CaloriesIntake  StepsDay  FitnessGoal     Status MembershipType  \\\n",
            "0        No            2034     12940  Maintenance  Off Track        Premium   \n",
            "1        No            3216      9240  Weight Loss   On Track        Premium   \n",
            "2       Yes            2816     14363  Muscle Gain  Off Track        Premium   \n",
            "3        No            2532      6408  Weight Loss  Off Track        Premium   \n",
            "4       Yes            2794      4861  Muscle Gain  Off Track          Basic   \n",
            "..      ...             ...       ...          ...        ...            ...   \n",
            "995      No            2858      7957  Weight Loss  Off Track          Basic   \n",
            "996      No            3287      1766  Maintenance  Off Track        Premium   \n",
            "997     Yes            1868      3681  Muscle Gain  Off Track        Premium   \n",
            "998      No            3384      8710  Weight Loss  Off Track        Premium   \n",
            "999     Yes            3107      8482  Muscle Gain  Off Track        Premium   \n",
            "\n",
            "    Region  \n",
            "0     West  \n",
            "1     East  \n",
            "2    South  \n",
            "3     West  \n",
            "4    South  \n",
            "..     ...  \n",
            "995  South  \n",
            "996  South  \n",
            "997  North  \n",
            "998  South  \n",
            "999  North  \n",
            "\n",
            "[1000 rows x 15 columns]\n"
          ]
        }
      ]
    },
    {
      "cell_type": "code",
      "source": [
        "features=df[['Age','Weight','ExerciseTime']]\n",
        "labels=df['FitnessGoal']"
      ],
      "metadata": {
        "id": "MNhyE_13WXLI"
      },
      "execution_count": 3,
      "outputs": []
    },
    {
      "cell_type": "code",
      "source": [
        "total=0\n",
        "for i in range(1,5):\n",
        "   features_train,features_test,labels_train,labels_test=train_test_split(features,labels,test_size=0.2)\n",
        "   model=DecisionTreeClassifier()\n",
        "   model.fit(features_train,labels_train)\n",
        "   result=model.predict(features_test)\n",
        "   score=accuracy_score(labels_test,result)\n",
        "   total+=score\n"
      ],
      "metadata": {
        "id": "iaI_XZPjWdRh"
      },
      "execution_count": 5,
      "outputs": []
    },
    {
      "cell_type": "code",
      "source": [
        "avg=(total/4)*100\n",
        "print('Average accuracy score of the model : %.2f%%' %avg)\n",
        "if avg>70:\n",
        "  print('This model can be deployed in an application for users')\n",
        "else:\n",
        "  print('This model requires more data and training')\n"
      ],
      "metadata": {
        "colab": {
          "base_uri": "https://localhost:8080/"
        },
        "id": "La0vucaNXXcr",
        "outputId": "8c1ef603-4e03-4cdb-d8fe-27981361fcc5"
      },
      "execution_count": 13,
      "outputs": [
        {
          "output_type": "stream",
          "name": "stdout",
          "text": [
            "Average accuracy score of the model : 78.50%\n",
            "This model can be deployed in an application for users\n"
          ]
        }
      ]
    }
  ]
}